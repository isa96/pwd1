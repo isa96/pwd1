{
 "cells": [
  {
   "cell_type": "code",
   "execution_count": 1,
   "metadata": {},
   "outputs": [],
   "source": [
    "import pandas as pd\n",
    "import numpy as np\n",
    "import seaborn as sns\n",
    "import matplotlib.pyplot as plt\n",
    "%matplotlib inline\n",
    "import sys\n",
    "\n",
    "if not sys.warnoptions:\n",
    "    import warnings\n",
    "    warnings.simplefilter(\"ignore\")"
   ]
  },
  {
   "cell_type": "code",
   "execution_count": 2,
   "metadata": {},
   "outputs": [],
   "source": [
    "df = pd.read_csv('weatherAUS.csv')"
   ]
  },
  {
   "cell_type": "code",
   "execution_count": 3,
   "metadata": {},
   "outputs": [
    {
     "data": {
      "text/html": [
       "<div>\n",
       "<style scoped>\n",
       "    .dataframe tbody tr th:only-of-type {\n",
       "        vertical-align: middle;\n",
       "    }\n",
       "\n",
       "    .dataframe tbody tr th {\n",
       "        vertical-align: top;\n",
       "    }\n",
       "\n",
       "    .dataframe thead th {\n",
       "        text-align: right;\n",
       "    }\n",
       "</style>\n",
       "<table border=\"1\" class=\"dataframe\">\n",
       "  <thead>\n",
       "    <tr style=\"text-align: right;\">\n",
       "      <th></th>\n",
       "      <th>Date</th>\n",
       "      <th>Location</th>\n",
       "      <th>MinTemp</th>\n",
       "      <th>MaxTemp</th>\n",
       "      <th>Rainfall</th>\n",
       "      <th>Evaporation</th>\n",
       "      <th>Sunshine</th>\n",
       "      <th>WindGustDir</th>\n",
       "      <th>WindGustSpeed</th>\n",
       "      <th>WindDir9am</th>\n",
       "      <th>...</th>\n",
       "      <th>Humidity3pm</th>\n",
       "      <th>Pressure9am</th>\n",
       "      <th>Pressure3pm</th>\n",
       "      <th>Cloud9am</th>\n",
       "      <th>Cloud3pm</th>\n",
       "      <th>Temp9am</th>\n",
       "      <th>Temp3pm</th>\n",
       "      <th>RainToday</th>\n",
       "      <th>RISK_MM</th>\n",
       "      <th>RainTomorrow</th>\n",
       "    </tr>\n",
       "  </thead>\n",
       "  <tbody>\n",
       "    <tr>\n",
       "      <th>0</th>\n",
       "      <td>2008-12-01</td>\n",
       "      <td>Albury</td>\n",
       "      <td>13.4</td>\n",
       "      <td>22.9</td>\n",
       "      <td>0.6</td>\n",
       "      <td>NaN</td>\n",
       "      <td>NaN</td>\n",
       "      <td>W</td>\n",
       "      <td>44.0</td>\n",
       "      <td>W</td>\n",
       "      <td>...</td>\n",
       "      <td>22.0</td>\n",
       "      <td>1007.7</td>\n",
       "      <td>1007.1</td>\n",
       "      <td>8.0</td>\n",
       "      <td>NaN</td>\n",
       "      <td>16.9</td>\n",
       "      <td>21.8</td>\n",
       "      <td>No</td>\n",
       "      <td>0.0</td>\n",
       "      <td>No</td>\n",
       "    </tr>\n",
       "    <tr>\n",
       "      <th>1</th>\n",
       "      <td>2008-12-02</td>\n",
       "      <td>Albury</td>\n",
       "      <td>7.4</td>\n",
       "      <td>25.1</td>\n",
       "      <td>0.0</td>\n",
       "      <td>NaN</td>\n",
       "      <td>NaN</td>\n",
       "      <td>WNW</td>\n",
       "      <td>44.0</td>\n",
       "      <td>NNW</td>\n",
       "      <td>...</td>\n",
       "      <td>25.0</td>\n",
       "      <td>1010.6</td>\n",
       "      <td>1007.8</td>\n",
       "      <td>NaN</td>\n",
       "      <td>NaN</td>\n",
       "      <td>17.2</td>\n",
       "      <td>24.3</td>\n",
       "      <td>No</td>\n",
       "      <td>0.0</td>\n",
       "      <td>No</td>\n",
       "    </tr>\n",
       "    <tr>\n",
       "      <th>2</th>\n",
       "      <td>2008-12-03</td>\n",
       "      <td>Albury</td>\n",
       "      <td>12.9</td>\n",
       "      <td>25.7</td>\n",
       "      <td>0.0</td>\n",
       "      <td>NaN</td>\n",
       "      <td>NaN</td>\n",
       "      <td>WSW</td>\n",
       "      <td>46.0</td>\n",
       "      <td>W</td>\n",
       "      <td>...</td>\n",
       "      <td>30.0</td>\n",
       "      <td>1007.6</td>\n",
       "      <td>1008.7</td>\n",
       "      <td>NaN</td>\n",
       "      <td>2.0</td>\n",
       "      <td>21.0</td>\n",
       "      <td>23.2</td>\n",
       "      <td>No</td>\n",
       "      <td>0.0</td>\n",
       "      <td>No</td>\n",
       "    </tr>\n",
       "    <tr>\n",
       "      <th>3</th>\n",
       "      <td>2008-12-04</td>\n",
       "      <td>Albury</td>\n",
       "      <td>9.2</td>\n",
       "      <td>28.0</td>\n",
       "      <td>0.0</td>\n",
       "      <td>NaN</td>\n",
       "      <td>NaN</td>\n",
       "      <td>NE</td>\n",
       "      <td>24.0</td>\n",
       "      <td>SE</td>\n",
       "      <td>...</td>\n",
       "      <td>16.0</td>\n",
       "      <td>1017.6</td>\n",
       "      <td>1012.8</td>\n",
       "      <td>NaN</td>\n",
       "      <td>NaN</td>\n",
       "      <td>18.1</td>\n",
       "      <td>26.5</td>\n",
       "      <td>No</td>\n",
       "      <td>1.0</td>\n",
       "      <td>No</td>\n",
       "    </tr>\n",
       "    <tr>\n",
       "      <th>4</th>\n",
       "      <td>2008-12-05</td>\n",
       "      <td>Albury</td>\n",
       "      <td>17.5</td>\n",
       "      <td>32.3</td>\n",
       "      <td>1.0</td>\n",
       "      <td>NaN</td>\n",
       "      <td>NaN</td>\n",
       "      <td>W</td>\n",
       "      <td>41.0</td>\n",
       "      <td>ENE</td>\n",
       "      <td>...</td>\n",
       "      <td>33.0</td>\n",
       "      <td>1010.8</td>\n",
       "      <td>1006.0</td>\n",
       "      <td>7.0</td>\n",
       "      <td>8.0</td>\n",
       "      <td>17.8</td>\n",
       "      <td>29.7</td>\n",
       "      <td>No</td>\n",
       "      <td>0.2</td>\n",
       "      <td>No</td>\n",
       "    </tr>\n",
       "  </tbody>\n",
       "</table>\n",
       "<p>5 rows × 24 columns</p>\n",
       "</div>"
      ],
      "text/plain": [
       "         Date Location  MinTemp  MaxTemp  Rainfall  Evaporation  Sunshine  \\\n",
       "0  2008-12-01   Albury     13.4     22.9       0.6          NaN       NaN   \n",
       "1  2008-12-02   Albury      7.4     25.1       0.0          NaN       NaN   \n",
       "2  2008-12-03   Albury     12.9     25.7       0.0          NaN       NaN   \n",
       "3  2008-12-04   Albury      9.2     28.0       0.0          NaN       NaN   \n",
       "4  2008-12-05   Albury     17.5     32.3       1.0          NaN       NaN   \n",
       "\n",
       "  WindGustDir  WindGustSpeed WindDir9am  ... Humidity3pm  Pressure9am  \\\n",
       "0           W           44.0          W  ...        22.0       1007.7   \n",
       "1         WNW           44.0        NNW  ...        25.0       1010.6   \n",
       "2         WSW           46.0          W  ...        30.0       1007.6   \n",
       "3          NE           24.0         SE  ...        16.0       1017.6   \n",
       "4           W           41.0        ENE  ...        33.0       1010.8   \n",
       "\n",
       "   Pressure3pm  Cloud9am  Cloud3pm  Temp9am  Temp3pm  RainToday  RISK_MM  \\\n",
       "0       1007.1       8.0       NaN     16.9     21.8         No      0.0   \n",
       "1       1007.8       NaN       NaN     17.2     24.3         No      0.0   \n",
       "2       1008.7       NaN       2.0     21.0     23.2         No      0.0   \n",
       "3       1012.8       NaN       NaN     18.1     26.5         No      1.0   \n",
       "4       1006.0       7.0       8.0     17.8     29.7         No      0.2   \n",
       "\n",
       "   RainTomorrow  \n",
       "0            No  \n",
       "1            No  \n",
       "2            No  \n",
       "3            No  \n",
       "4            No  \n",
       "\n",
       "[5 rows x 24 columns]"
      ]
     },
     "execution_count": 3,
     "metadata": {},
     "output_type": "execute_result"
    }
   ],
   "source": [
    "df.head()"
   ]
  },
  {
   "cell_type": "code",
   "execution_count": 4,
   "metadata": {},
   "outputs": [
    {
     "name": "stdout",
     "output_type": "stream",
     "text": [
      "<class 'pandas.core.frame.DataFrame'>\n",
      "RangeIndex: 142193 entries, 0 to 142192\n",
      "Data columns (total 24 columns):\n",
      "Date             142193 non-null object\n",
      "Location         142193 non-null object\n",
      "MinTemp          141556 non-null float64\n",
      "MaxTemp          141871 non-null float64\n",
      "Rainfall         140787 non-null float64\n",
      "Evaporation      81350 non-null float64\n",
      "Sunshine         74377 non-null float64\n",
      "WindGustDir      132863 non-null object\n",
      "WindGustSpeed    132923 non-null float64\n",
      "WindDir9am       132180 non-null object\n",
      "WindDir3pm       138415 non-null object\n",
      "WindSpeed9am     140845 non-null float64\n",
      "WindSpeed3pm     139563 non-null float64\n",
      "Humidity9am      140419 non-null float64\n",
      "Humidity3pm      138583 non-null float64\n",
      "Pressure9am      128179 non-null float64\n",
      "Pressure3pm      128212 non-null float64\n",
      "Cloud9am         88536 non-null float64\n",
      "Cloud3pm         85099 non-null float64\n",
      "Temp9am          141289 non-null float64\n",
      "Temp3pm          139467 non-null float64\n",
      "RainToday        140787 non-null object\n",
      "RISK_MM          142193 non-null float64\n",
      "RainTomorrow     142193 non-null object\n",
      "dtypes: float64(17), object(7)\n",
      "memory usage: 26.0+ MB\n"
     ]
    }
   ],
   "source": [
    "df.info()"
   ]
  },
  {
   "cell_type": "code",
   "execution_count": 5,
   "metadata": {},
   "outputs": [
    {
     "data": {
      "text/plain": [
       "array(['Albury', 'BadgerysCreek', 'Cobar', 'CoffsHarbour', 'Moree',\n",
       "       'Newcastle', 'NorahHead', 'NorfolkIsland', 'Penrith', 'Richmond',\n",
       "       'Sydney', 'SydneyAirport', 'WaggaWagga', 'Williamtown',\n",
       "       'Wollongong', 'Canberra', 'Tuggeranong', 'MountGinini', 'Ballarat',\n",
       "       'Bendigo', 'Sale', 'MelbourneAirport', 'Melbourne', 'Mildura',\n",
       "       'Nhil', 'Portland', 'Watsonia', 'Dartmoor', 'Brisbane', 'Cairns',\n",
       "       'GoldCoast', 'Townsville', 'Adelaide', 'MountGambier', 'Nuriootpa',\n",
       "       'Woomera', 'Albany', 'Witchcliffe', 'PearceRAAF', 'PerthAirport',\n",
       "       'Perth', 'SalmonGums', 'Walpole', 'Hobart', 'Launceston',\n",
       "       'AliceSprings', 'Darwin', 'Katherine', 'Uluru'], dtype=object)"
      ]
     },
     "execution_count": 5,
     "metadata": {},
     "output_type": "execute_result"
    }
   ],
   "source": [
    "df['Location'].unique()"
   ]
  },
  {
   "cell_type": "code",
   "execution_count": 6,
   "metadata": {},
   "outputs": [],
   "source": [
    "df_syd=df[df['Location']=='Sydney']\n",
    "df_cbr=df[df['Location']=='Canberra']\n",
    "df_mlb=df[df['Location']=='Melbourne']\n",
    "df_adl=df[df['Location']=='Adelaide']\n",
    "df_drw=df[df['Location']=='Darwin']\n",
    "df_brb=df[df['Location']=='Brisbane']\n",
    "df_prt=df[df['Location']=='Perth']"
   ]
  },
  {
   "cell_type": "code",
   "execution_count": 7,
   "metadata": {},
   "outputs": [
    {
     "data": {
      "text/html": [
       "<div>\n",
       "<style scoped>\n",
       "    .dataframe tbody tr th:only-of-type {\n",
       "        vertical-align: middle;\n",
       "    }\n",
       "\n",
       "    .dataframe tbody tr th {\n",
       "        vertical-align: top;\n",
       "    }\n",
       "\n",
       "    .dataframe thead th {\n",
       "        text-align: right;\n",
       "    }\n",
       "</style>\n",
       "<table border=\"1\" class=\"dataframe\">\n",
       "  <thead>\n",
       "    <tr style=\"text-align: right;\">\n",
       "      <th></th>\n",
       "      <th>Date</th>\n",
       "      <th>Location</th>\n",
       "      <th>MinTemp</th>\n",
       "      <th>MaxTemp</th>\n",
       "      <th>Rainfall</th>\n",
       "      <th>Evaporation</th>\n",
       "      <th>Sunshine</th>\n",
       "      <th>WindGustDir</th>\n",
       "      <th>WindGustSpeed</th>\n",
       "      <th>WindDir9am</th>\n",
       "      <th>...</th>\n",
       "      <th>Humidity3pm</th>\n",
       "      <th>Pressure9am</th>\n",
       "      <th>Pressure3pm</th>\n",
       "      <th>Cloud9am</th>\n",
       "      <th>Cloud3pm</th>\n",
       "      <th>Temp9am</th>\n",
       "      <th>Temp3pm</th>\n",
       "      <th>RainToday</th>\n",
       "      <th>RISK_MM</th>\n",
       "      <th>RainTomorrow</th>\n",
       "    </tr>\n",
       "  </thead>\n",
       "  <tbody>\n",
       "    <tr>\n",
       "      <th>29497</th>\n",
       "      <td>2008-02-01</td>\n",
       "      <td>Sydney</td>\n",
       "      <td>19.5</td>\n",
       "      <td>22.4</td>\n",
       "      <td>15.6</td>\n",
       "      <td>6.2</td>\n",
       "      <td>0.0</td>\n",
       "      <td>NaN</td>\n",
       "      <td>NaN</td>\n",
       "      <td>S</td>\n",
       "      <td>...</td>\n",
       "      <td>84.0</td>\n",
       "      <td>1017.6</td>\n",
       "      <td>1017.4</td>\n",
       "      <td>8.0</td>\n",
       "      <td>8.0</td>\n",
       "      <td>20.7</td>\n",
       "      <td>20.9</td>\n",
       "      <td>Yes</td>\n",
       "      <td>6.0</td>\n",
       "      <td>Yes</td>\n",
       "    </tr>\n",
       "    <tr>\n",
       "      <th>29498</th>\n",
       "      <td>2008-02-02</td>\n",
       "      <td>Sydney</td>\n",
       "      <td>19.5</td>\n",
       "      <td>25.6</td>\n",
       "      <td>6.0</td>\n",
       "      <td>3.4</td>\n",
       "      <td>2.7</td>\n",
       "      <td>NaN</td>\n",
       "      <td>NaN</td>\n",
       "      <td>W</td>\n",
       "      <td>...</td>\n",
       "      <td>73.0</td>\n",
       "      <td>1017.9</td>\n",
       "      <td>1016.4</td>\n",
       "      <td>7.0</td>\n",
       "      <td>7.0</td>\n",
       "      <td>22.4</td>\n",
       "      <td>24.8</td>\n",
       "      <td>Yes</td>\n",
       "      <td>6.6</td>\n",
       "      <td>Yes</td>\n",
       "    </tr>\n",
       "    <tr>\n",
       "      <th>29499</th>\n",
       "      <td>2008-02-03</td>\n",
       "      <td>Sydney</td>\n",
       "      <td>21.6</td>\n",
       "      <td>24.5</td>\n",
       "      <td>6.6</td>\n",
       "      <td>2.4</td>\n",
       "      <td>0.1</td>\n",
       "      <td>NaN</td>\n",
       "      <td>NaN</td>\n",
       "      <td>ESE</td>\n",
       "      <td>...</td>\n",
       "      <td>86.0</td>\n",
       "      <td>1016.7</td>\n",
       "      <td>1015.6</td>\n",
       "      <td>7.0</td>\n",
       "      <td>8.0</td>\n",
       "      <td>23.5</td>\n",
       "      <td>23.0</td>\n",
       "      <td>Yes</td>\n",
       "      <td>18.8</td>\n",
       "      <td>Yes</td>\n",
       "    </tr>\n",
       "    <tr>\n",
       "      <th>29500</th>\n",
       "      <td>2008-02-04</td>\n",
       "      <td>Sydney</td>\n",
       "      <td>20.2</td>\n",
       "      <td>22.8</td>\n",
       "      <td>18.8</td>\n",
       "      <td>2.2</td>\n",
       "      <td>0.0</td>\n",
       "      <td>NaN</td>\n",
       "      <td>NaN</td>\n",
       "      <td>NNE</td>\n",
       "      <td>...</td>\n",
       "      <td>90.0</td>\n",
       "      <td>1014.2</td>\n",
       "      <td>1011.8</td>\n",
       "      <td>8.0</td>\n",
       "      <td>8.0</td>\n",
       "      <td>21.4</td>\n",
       "      <td>20.9</td>\n",
       "      <td>Yes</td>\n",
       "      <td>77.4</td>\n",
       "      <td>Yes</td>\n",
       "    </tr>\n",
       "    <tr>\n",
       "      <th>29501</th>\n",
       "      <td>2008-02-05</td>\n",
       "      <td>Sydney</td>\n",
       "      <td>19.7</td>\n",
       "      <td>25.7</td>\n",
       "      <td>77.4</td>\n",
       "      <td>NaN</td>\n",
       "      <td>0.0</td>\n",
       "      <td>NaN</td>\n",
       "      <td>NaN</td>\n",
       "      <td>NNE</td>\n",
       "      <td>...</td>\n",
       "      <td>74.0</td>\n",
       "      <td>1008.3</td>\n",
       "      <td>1004.8</td>\n",
       "      <td>8.0</td>\n",
       "      <td>8.0</td>\n",
       "      <td>22.5</td>\n",
       "      <td>25.5</td>\n",
       "      <td>Yes</td>\n",
       "      <td>1.6</td>\n",
       "      <td>Yes</td>\n",
       "    </tr>\n",
       "  </tbody>\n",
       "</table>\n",
       "<p>5 rows × 24 columns</p>\n",
       "</div>"
      ],
      "text/plain": [
       "             Date Location  MinTemp  MaxTemp  Rainfall  Evaporation  Sunshine  \\\n",
       "29497  2008-02-01   Sydney     19.5     22.4      15.6          6.2       0.0   \n",
       "29498  2008-02-02   Sydney     19.5     25.6       6.0          3.4       2.7   \n",
       "29499  2008-02-03   Sydney     21.6     24.5       6.6          2.4       0.1   \n",
       "29500  2008-02-04   Sydney     20.2     22.8      18.8          2.2       0.0   \n",
       "29501  2008-02-05   Sydney     19.7     25.7      77.4          NaN       0.0   \n",
       "\n",
       "      WindGustDir  WindGustSpeed WindDir9am  ... Humidity3pm  Pressure9am  \\\n",
       "29497         NaN            NaN          S  ...        84.0       1017.6   \n",
       "29498         NaN            NaN          W  ...        73.0       1017.9   \n",
       "29499         NaN            NaN        ESE  ...        86.0       1016.7   \n",
       "29500         NaN            NaN        NNE  ...        90.0       1014.2   \n",
       "29501         NaN            NaN        NNE  ...        74.0       1008.3   \n",
       "\n",
       "       Pressure3pm  Cloud9am  Cloud3pm  Temp9am  Temp3pm  RainToday  RISK_MM  \\\n",
       "29497       1017.4       8.0       8.0     20.7     20.9        Yes      6.0   \n",
       "29498       1016.4       7.0       7.0     22.4     24.8        Yes      6.6   \n",
       "29499       1015.6       7.0       8.0     23.5     23.0        Yes     18.8   \n",
       "29500       1011.8       8.0       8.0     21.4     20.9        Yes     77.4   \n",
       "29501       1004.8       8.0       8.0     22.5     25.5        Yes      1.6   \n",
       "\n",
       "       RainTomorrow  \n",
       "29497           Yes  \n",
       "29498           Yes  \n",
       "29499           Yes  \n",
       "29500           Yes  \n",
       "29501           Yes  \n",
       "\n",
       "[5 rows x 24 columns]"
      ]
     },
     "execution_count": 7,
     "metadata": {},
     "output_type": "execute_result"
    }
   ],
   "source": [
    "df1=pd.concat([df_syd,df_cbr,df_mlb,df_adl,df_drw,df_brb,df_prt],axis=0)\n",
    "df1.head()"
   ]
  },
  {
   "cell_type": "code",
   "execution_count": 8,
   "metadata": {},
   "outputs": [
    {
     "name": "stdout",
     "output_type": "stream",
     "text": [
      "<class 'pandas.core.frame.DataFrame'>\n",
      "Int64Index: 21826 entries, 29497 to 120899\n",
      "Data columns (total 24 columns):\n",
      "Date             21826 non-null object\n",
      "Location         21826 non-null object\n",
      "MinTemp          21808 non-null float64\n",
      "MaxTemp          21813 non-null float64\n",
      "Rainfall         21568 non-null float64\n",
      "Evaporation      18665 non-null float64\n",
      "Sunshine         18455 non-null float64\n",
      "WindGustDir      20359 non-null object\n",
      "WindGustSpeed    20365 non-null float64\n",
      "WindDir9am       20706 non-null object\n",
      "WindDir3pm       21502 non-null object\n",
      "WindSpeed9am     21563 non-null float64\n",
      "WindSpeed3pm     21568 non-null float64\n",
      "Humidity9am      21731 non-null float64\n",
      "Humidity3pm      21770 non-null float64\n",
      "Pressure9am      21571 non-null float64\n",
      "Pressure3pm      21572 non-null float64\n",
      "Cloud9am         16694 non-null float64\n",
      "Cloud3pm         16445 non-null float64\n",
      "Temp9am          21796 non-null float64\n",
      "Temp3pm          21795 non-null float64\n",
      "RainToday        21568 non-null object\n",
      "RISK_MM          21826 non-null float64\n",
      "RainTomorrow     21826 non-null object\n",
      "dtypes: float64(17), object(7)\n",
      "memory usage: 4.2+ MB\n"
     ]
    }
   ],
   "source": [
    "df1.info()"
   ]
  },
  {
   "cell_type": "code",
   "execution_count": 9,
   "metadata": {},
   "outputs": [
    {
     "data": {
      "text/plain": [
       "Date                0\n",
       "Location            0\n",
       "MinTemp            18\n",
       "MaxTemp            13\n",
       "Rainfall          258\n",
       "Evaporation      3161\n",
       "Sunshine         3371\n",
       "WindGustDir      1467\n",
       "WindGustSpeed    1461\n",
       "WindDir9am       1120\n",
       "WindDir3pm        324\n",
       "WindSpeed9am      263\n",
       "WindSpeed3pm      258\n",
       "Humidity9am        95\n",
       "Humidity3pm        56\n",
       "Pressure9am       255\n",
       "Pressure3pm       254\n",
       "Cloud9am         5132\n",
       "Cloud3pm         5381\n",
       "Temp9am            30\n",
       "Temp3pm            31\n",
       "RainToday         258\n",
       "RISK_MM             0\n",
       "RainTomorrow        0\n",
       "dtype: int64"
      ]
     },
     "execution_count": 9,
     "metadata": {},
     "output_type": "execute_result"
    }
   ],
   "source": [
    "df1.isna().sum()"
   ]
  },
  {
   "cell_type": "code",
   "execution_count": 10,
   "metadata": {},
   "outputs": [],
   "source": [
    "df_use=df1[['MinTemp','MaxTemp','WindGustSpeed','Humidity3pm','Pressure3pm','Location','RainTomorrow']]"
   ]
  },
  {
   "cell_type": "code",
   "execution_count": 11,
   "metadata": {},
   "outputs": [
    {
     "data": {
      "text/html": [
       "<div>\n",
       "<style scoped>\n",
       "    .dataframe tbody tr th:only-of-type {\n",
       "        vertical-align: middle;\n",
       "    }\n",
       "\n",
       "    .dataframe tbody tr th {\n",
       "        vertical-align: top;\n",
       "    }\n",
       "\n",
       "    .dataframe thead th {\n",
       "        text-align: right;\n",
       "    }\n",
       "</style>\n",
       "<table border=\"1\" class=\"dataframe\">\n",
       "  <thead>\n",
       "    <tr style=\"text-align: right;\">\n",
       "      <th></th>\n",
       "      <th>MinTemp</th>\n",
       "      <th>MaxTemp</th>\n",
       "      <th>WindGustSpeed</th>\n",
       "      <th>Humidity3pm</th>\n",
       "      <th>Pressure3pm</th>\n",
       "      <th>Location</th>\n",
       "      <th>RainTomorrow</th>\n",
       "    </tr>\n",
       "  </thead>\n",
       "  <tbody>\n",
       "    <tr>\n",
       "      <th>29497</th>\n",
       "      <td>19.5</td>\n",
       "      <td>22.4</td>\n",
       "      <td>NaN</td>\n",
       "      <td>84.0</td>\n",
       "      <td>1017.4</td>\n",
       "      <td>Sydney</td>\n",
       "      <td>Yes</td>\n",
       "    </tr>\n",
       "    <tr>\n",
       "      <th>29498</th>\n",
       "      <td>19.5</td>\n",
       "      <td>25.6</td>\n",
       "      <td>NaN</td>\n",
       "      <td>73.0</td>\n",
       "      <td>1016.4</td>\n",
       "      <td>Sydney</td>\n",
       "      <td>Yes</td>\n",
       "    </tr>\n",
       "    <tr>\n",
       "      <th>29499</th>\n",
       "      <td>21.6</td>\n",
       "      <td>24.5</td>\n",
       "      <td>NaN</td>\n",
       "      <td>86.0</td>\n",
       "      <td>1015.6</td>\n",
       "      <td>Sydney</td>\n",
       "      <td>Yes</td>\n",
       "    </tr>\n",
       "    <tr>\n",
       "      <th>29500</th>\n",
       "      <td>20.2</td>\n",
       "      <td>22.8</td>\n",
       "      <td>NaN</td>\n",
       "      <td>90.0</td>\n",
       "      <td>1011.8</td>\n",
       "      <td>Sydney</td>\n",
       "      <td>Yes</td>\n",
       "    </tr>\n",
       "    <tr>\n",
       "      <th>29501</th>\n",
       "      <td>19.7</td>\n",
       "      <td>25.7</td>\n",
       "      <td>NaN</td>\n",
       "      <td>74.0</td>\n",
       "      <td>1004.8</td>\n",
       "      <td>Sydney</td>\n",
       "      <td>Yes</td>\n",
       "    </tr>\n",
       "  </tbody>\n",
       "</table>\n",
       "</div>"
      ],
      "text/plain": [
       "       MinTemp  MaxTemp  WindGustSpeed  Humidity3pm  Pressure3pm Location  \\\n",
       "29497     19.5     22.4            NaN         84.0       1017.4   Sydney   \n",
       "29498     19.5     25.6            NaN         73.0       1016.4   Sydney   \n",
       "29499     21.6     24.5            NaN         86.0       1015.6   Sydney   \n",
       "29500     20.2     22.8            NaN         90.0       1011.8   Sydney   \n",
       "29501     19.7     25.7            NaN         74.0       1004.8   Sydney   \n",
       "\n",
       "      RainTomorrow  \n",
       "29497          Yes  \n",
       "29498          Yes  \n",
       "29499          Yes  \n",
       "29500          Yes  \n",
       "29501          Yes  "
      ]
     },
     "execution_count": 11,
     "metadata": {},
     "output_type": "execute_result"
    }
   ],
   "source": [
    "df_use.head()"
   ]
  },
  {
   "cell_type": "code",
   "execution_count": 12,
   "metadata": {},
   "outputs": [
    {
     "name": "stdout",
     "output_type": "stream",
     "text": [
      "<class 'pandas.core.frame.DataFrame'>\n",
      "Int64Index: 21826 entries, 29497 to 120899\n",
      "Data columns (total 7 columns):\n",
      "MinTemp          21808 non-null float64\n",
      "MaxTemp          21813 non-null float64\n",
      "WindGustSpeed    20365 non-null float64\n",
      "Humidity3pm      21770 non-null float64\n",
      "Pressure3pm      21572 non-null float64\n",
      "Location         21826 non-null object\n",
      "RainTomorrow     21826 non-null object\n",
      "dtypes: float64(5), object(2)\n",
      "memory usage: 1.3+ MB\n"
     ]
    }
   ],
   "source": [
    "df_use.info()"
   ]
  },
  {
   "cell_type": "code",
   "execution_count": 13,
   "metadata": {},
   "outputs": [
    {
     "name": "stdout",
     "output_type": "stream",
     "text": [
      "<class 'pandas.core.frame.DataFrame'>\n",
      "Int64Index: 21826 entries, 29497 to 120899\n",
      "Data columns (total 7 columns):\n",
      "MinTemp          21818 non-null float64\n",
      "MaxTemp          21822 non-null float64\n",
      "WindGustSpeed    21826 non-null float64\n",
      "Humidity3pm      21826 non-null float64\n",
      "Pressure3pm      21826 non-null float64\n",
      "Location         21826 non-null object\n",
      "RainTomorrow     21826 non-null object\n",
      "dtypes: float64(5), object(2)\n",
      "memory usage: 1.3+ MB\n"
     ]
    }
   ],
   "source": [
    "df_use['MinTemp'].fillna(df['Temp9am'],inplace=True)\n",
    "df_use['MaxTemp'].fillna(df['Temp3pm'],inplace=True)\n",
    "df_use['WindGustSpeed'].fillna(round(df_use['WindGustSpeed'].mean(),1),inplace=True)\n",
    "df_use['Humidity3pm'].fillna(round(df_use['Humidity3pm'].mean(),1),inplace=True)\n",
    "df_use['Pressure3pm'].fillna(round(df_use['Pressure3pm'].mean(),1),inplace=True)\n",
    "df_use.info()"
   ]
  },
  {
   "cell_type": "code",
   "execution_count": 14,
   "metadata": {},
   "outputs": [],
   "source": [
    "df_use['TempDiv']=df_use['MaxTemp']-df_use['MinTemp']"
   ]
  },
  {
   "cell_type": "code",
   "execution_count": 15,
   "metadata": {},
   "outputs": [],
   "source": [
    "df_use['Humidity']=df_use['Humidity3pm']\n",
    "df_use['Pressure']=df_use['Pressure3pm']"
   ]
  },
  {
   "cell_type": "code",
   "execution_count": 16,
   "metadata": {},
   "outputs": [
    {
     "name": "stdout",
     "output_type": "stream",
     "text": [
      "<class 'pandas.core.frame.DataFrame'>\n",
      "Int64Index: 21826 entries, 29497 to 120899\n",
      "Data columns (total 10 columns):\n",
      "MinTemp          21818 non-null float64\n",
      "MaxTemp          21822 non-null float64\n",
      "WindGustSpeed    21826 non-null float64\n",
      "Humidity3pm      21826 non-null float64\n",
      "Pressure3pm      21826 non-null float64\n",
      "Location         21826 non-null object\n",
      "RainTomorrow     21826 non-null object\n",
      "TempDiv          21815 non-null float64\n",
      "Humidity         21826 non-null float64\n",
      "Pressure         21826 non-null float64\n",
      "dtypes: float64(8), object(2)\n",
      "memory usage: 1.8+ MB\n"
     ]
    }
   ],
   "source": [
    "df_use.info()"
   ]
  },
  {
   "cell_type": "code",
   "execution_count": 17,
   "metadata": {},
   "outputs": [],
   "source": [
    "df_use.drop(columns=['Humidity3pm','Pressure3pm','MinTemp','MaxTemp'],inplace=True)"
   ]
  },
  {
   "cell_type": "code",
   "execution_count": 18,
   "metadata": {},
   "outputs": [],
   "source": [
    "df_use.dropna(how='any',inplace=True)"
   ]
  },
  {
   "cell_type": "code",
   "execution_count": 19,
   "metadata": {},
   "outputs": [
    {
     "name": "stdout",
     "output_type": "stream",
     "text": [
      "<class 'pandas.core.frame.DataFrame'>\n",
      "Int64Index: 21815 entries, 29497 to 120899\n",
      "Data columns (total 6 columns):\n",
      "WindGustSpeed    21815 non-null float64\n",
      "Location         21815 non-null object\n",
      "RainTomorrow     21815 non-null object\n",
      "TempDiv          21815 non-null float64\n",
      "Humidity         21815 non-null float64\n",
      "Pressure         21815 non-null float64\n",
      "dtypes: float64(4), object(2)\n",
      "memory usage: 1.2+ MB\n"
     ]
    }
   ],
   "source": [
    "df_use.info()"
   ]
  },
  {
   "cell_type": "code",
   "execution_count": 20,
   "metadata": {},
   "outputs": [],
   "source": [
    "from sklearn.preprocessing import LabelEncoder\n",
    "label = LabelEncoder()\n",
    "df_use['RainTomorrow']=label.fit_transform(df_use['RainTomorrow'])\n",
    "df_use['Location']=label.fit_transform(df_use['Location'])\n"
   ]
  },
  {
   "cell_type": "code",
   "execution_count": 21,
   "metadata": {},
   "outputs": [
    {
     "data": {
      "text/html": [
       "<div>\n",
       "<style scoped>\n",
       "    .dataframe tbody tr th:only-of-type {\n",
       "        vertical-align: middle;\n",
       "    }\n",
       "\n",
       "    .dataframe tbody tr th {\n",
       "        vertical-align: top;\n",
       "    }\n",
       "\n",
       "    .dataframe thead th {\n",
       "        text-align: right;\n",
       "    }\n",
       "</style>\n",
       "<table border=\"1\" class=\"dataframe\">\n",
       "  <thead>\n",
       "    <tr style=\"text-align: right;\">\n",
       "      <th></th>\n",
       "      <th>WindGustSpeed</th>\n",
       "      <th>Location</th>\n",
       "      <th>RainTomorrow</th>\n",
       "      <th>TempDiv</th>\n",
       "      <th>Humidity</th>\n",
       "      <th>Pressure</th>\n",
       "    </tr>\n",
       "  </thead>\n",
       "  <tbody>\n",
       "    <tr>\n",
       "      <th>29497</th>\n",
       "      <td>37.8</td>\n",
       "      <td>6</td>\n",
       "      <td>1</td>\n",
       "      <td>2.9</td>\n",
       "      <td>84.0</td>\n",
       "      <td>1017.4</td>\n",
       "    </tr>\n",
       "    <tr>\n",
       "      <th>29498</th>\n",
       "      <td>37.8</td>\n",
       "      <td>6</td>\n",
       "      <td>1</td>\n",
       "      <td>6.1</td>\n",
       "      <td>73.0</td>\n",
       "      <td>1016.4</td>\n",
       "    </tr>\n",
       "    <tr>\n",
       "      <th>29499</th>\n",
       "      <td>37.8</td>\n",
       "      <td>6</td>\n",
       "      <td>1</td>\n",
       "      <td>2.9</td>\n",
       "      <td>86.0</td>\n",
       "      <td>1015.6</td>\n",
       "    </tr>\n",
       "    <tr>\n",
       "      <th>29500</th>\n",
       "      <td>37.8</td>\n",
       "      <td>6</td>\n",
       "      <td>1</td>\n",
       "      <td>2.6</td>\n",
       "      <td>90.0</td>\n",
       "      <td>1011.8</td>\n",
       "    </tr>\n",
       "    <tr>\n",
       "      <th>29501</th>\n",
       "      <td>37.8</td>\n",
       "      <td>6</td>\n",
       "      <td>1</td>\n",
       "      <td>6.0</td>\n",
       "      <td>74.0</td>\n",
       "      <td>1004.8</td>\n",
       "    </tr>\n",
       "  </tbody>\n",
       "</table>\n",
       "</div>"
      ],
      "text/plain": [
       "       WindGustSpeed  Location  RainTomorrow  TempDiv  Humidity  Pressure\n",
       "29497           37.8         6             1      2.9      84.0    1017.4\n",
       "29498           37.8         6             1      6.1      73.0    1016.4\n",
       "29499           37.8         6             1      2.9      86.0    1015.6\n",
       "29500           37.8         6             1      2.6      90.0    1011.8\n",
       "29501           37.8         6             1      6.0      74.0    1004.8"
      ]
     },
     "execution_count": 21,
     "metadata": {},
     "output_type": "execute_result"
    }
   ],
   "source": [
    "df_use.head()"
   ]
  },
  {
   "cell_type": "code",
   "execution_count": 22,
   "metadata": {},
   "outputs": [],
   "source": [
    "from sklearn.model_selection import train_test_split\n",
    "X_train,X_test,y_train,y_test =train_test_split(df_use.drop(columns=['RainTomorrow']),df_use.RainTomorrow,test_size = 0.2)"
   ]
  },
  {
   "cell_type": "code",
   "execution_count": 23,
   "metadata": {},
   "outputs": [
    {
     "data": {
      "text/plain": [
       "((17452, 5), (4363, 5))"
      ]
     },
     "execution_count": 23,
     "metadata": {},
     "output_type": "execute_result"
    }
   ],
   "source": [
    "X_train.shape,X_test.shape"
   ]
  },
  {
   "cell_type": "code",
   "execution_count": 53,
   "metadata": {},
   "outputs": [
    {
     "name": "stdout",
     "output_type": "stream",
     "text": [
      "Test Accuracy: 0.825\n",
      "Logloss: 0.407\n",
      "              precision    recall  f1-score   support\n",
      "\n",
      "           0       0.84      0.96      0.90     13425\n",
      "           1       0.74      0.41      0.53      4027\n",
      "\n",
      "    accuracy                           0.83     17452\n",
      "   macro avg       0.79      0.68      0.71     17452\n",
      "weighted avg       0.82      0.83      0.81     17452\n",
      "\n",
      "[[12842   583]\n",
      " [ 2378  1649]]\n",
      "              precision    recall  f1-score   support\n",
      "\n",
      "           0       0.84      0.95      0.89      3367\n",
      "           1       0.70      0.41      0.52       996\n",
      "\n",
      "    accuracy                           0.82      4363\n",
      "   macro avg       0.77      0.68      0.71      4363\n",
      "weighted avg       0.81      0.82      0.81      4363\n",
      "\n",
      "[[3189  178]\n",
      " [ 586  410]]\n"
     ]
    }
   ],
   "source": [
    "from sklearn.preprocessing import StandardScaler\n",
    "from sklearn.decomposition import PCA\n",
    "from sklearn.neighbors import KNeighborsClassifier\n",
    "from sklearn.ensemble import RandomForestClassifier\n",
    "from xgboost import XGBClassifier\n",
    "from sklearn.pipeline import Pipeline\n",
    "from sklearn.metrics import classification_report,confusion_matrix,log_loss,matthews_corrcoef\n",
    "from sklearn.linear_model import LogisticRegression\n",
    "pipe_knn = Pipeline([('std_scl', StandardScaler()), \n",
    "                    ('pca', PCA(n_components=2)),\n",
    "                    ('knn', KNeighborsClassifier(n_neighbors=90))])\n",
    "\n",
    "pipe_knn.fit(X_train, y_train)\n",
    "\n",
    "print('Test Accuracy: %.3f' % pipe_knn.score(X_test, y_test))\n",
    "train_pred=pipe_knn.predict(X_train)\n",
    "knn_pred=pipe_knn.predict(X_test)\n",
    "knn_predprob=pipe_knn.predict_proba(X_test)\n",
    "print('Logloss: %.3f' %log_loss(y_test,knn_predprob))\n",
    "print(classification_report(y_train,train_pred))\n",
    "print(confusion_matrix(y_train,train_pred))\n",
    "print(classification_report(y_test,knn_pred))\n",
    "print(confusion_matrix(y_test,knn_pred))"
   ]
  },
  {
   "cell_type": "code",
   "execution_count": 52,
   "metadata": {},
   "outputs": [
    {
     "name": "stdout",
     "output_type": "stream",
     "text": [
      "Test Accuracy: 0.805\n",
      "Logloss: 0.616\n",
      "              precision    recall  f1-score   support\n",
      "\n",
      "           0       1.00      1.00      1.00     13425\n",
      "           1       1.00      1.00      1.00      4027\n",
      "\n",
      "    accuracy                           1.00     17452\n",
      "   macro avg       1.00      1.00      1.00     17452\n",
      "weighted avg       1.00      1.00      1.00     17452\n",
      "\n",
      "[[13425     0]\n",
      " [    1  4026]]\n",
      "              precision    recall  f1-score   support\n",
      "\n",
      "           0       0.85      0.91      0.88      3367\n",
      "           1       0.60      0.45      0.51       996\n",
      "\n",
      "    accuracy                           0.80      4363\n",
      "   macro avg       0.72      0.68      0.69      4363\n",
      "weighted avg       0.79      0.80      0.79      4363\n",
      "\n",
      "[[3068  299]\n",
      " [ 552  444]]\n"
     ]
    }
   ],
   "source": [
    "pipe_rfc = Pipeline([('std_scl', StandardScaler()), \n",
    "                    ('pca', PCA(n_components=2)),\n",
    "                    ('rfc', RandomForestClassifier(n_estimators=200,criterion='gini',n_jobs=-1))])\n",
    "\n",
    "pipe_rfc.fit(X_train, y_train)\n",
    "\n",
    "print('Test Accuracy: %.3f' % pipe_rfc.score(X_test, y_test))\n",
    "pred_rfc=pipe_rfc.predict(X_test)\n",
    "predprob_rfc=pipe_rfc.predict_proba(X_test)\n",
    "train_pred=pipe_rfc.predict(X_train)\n",
    "print('Logloss: %.3f' %log_loss(y_test,predprob_rfc))\n",
    "print(classification_report(y_train,train_pred))\n",
    "print(confusion_matrix(y_train,train_pred))\n",
    "print(classification_report(y_test,pred_rfc))\n",
    "print(confusion_matrix(y_test,pred_rfc))"
   ]
  },
  {
   "cell_type": "code",
   "execution_count": 26,
   "metadata": {
    "scrolled": false
   },
   "outputs": [
    {
     "name": "stdout",
     "output_type": "stream",
     "text": [
      "Test Accuracy: 0.828\n",
      "Logloss: 0.407\n",
      "              precision    recall  f1-score   support\n",
      "\n",
      "           0       0.84      0.96      0.90     13425\n",
      "           1       0.76      0.39      0.52      4027\n",
      "\n",
      "    accuracy                           0.83     17452\n",
      "   macro avg       0.80      0.68      0.71     17452\n",
      "weighted avg       0.82      0.83      0.81     17452\n",
      "\n",
      "[[12919   506]\n",
      " [ 2438  1589]]\n",
      "              precision    recall  f1-score   support\n",
      "\n",
      "           0       0.84      0.95      0.90      3367\n",
      "           1       0.72      0.40      0.52       996\n",
      "\n",
      "    accuracy                           0.83      4363\n",
      "   macro avg       0.78      0.68      0.71      4363\n",
      "weighted avg       0.82      0.83      0.81      4363\n",
      "\n",
      "[[3211  156]\n",
      " [ 596  400]]\n"
     ]
    }
   ],
   "source": [
    "pipe_xgb = Pipeline([('std_scl', StandardScaler()), \n",
    "                    ('pca', PCA(n_components=2)),\n",
    "                    ('xgb', XGBClassifier(n_estimators=12,learning_rate=0.5,n_jobs=-1))])\n",
    "\n",
    "pipe_xgb.fit(X_train, y_train)\n",
    "\n",
    "print('Test Accuracy: %.3f' % pipe_xgb.score(X_test, y_test))\n",
    "train_pred=pipe_xgb.predict(X_train)\n",
    "pred_xgb=pipe_xgb.predict(X_test)\n",
    "predprob_xgb=pipe_xgb.predict_proba(X_test)\n",
    "print('Logloss: %.3f' %log_loss(y_test,predprob_xgb))\n",
    "print(classification_report(y_train,train_pred))\n",
    "print(confusion_matrix(y_train,train_pred))\n",
    "print(classification_report(y_test,pred_xgb))\n",
    "print(confusion_matrix(y_test,pred_xgb))"
   ]
  },
  {
   "cell_type": "code",
   "execution_count": 27,
   "metadata": {},
   "outputs": [
    {
     "name": "stdout",
     "output_type": "stream",
     "text": [
      "Test Accuracy: 0.838\n",
      "Logloss: 0.388\n",
      "              precision    recall  f1-score   support\n",
      "\n",
      "           0       0.86      0.95      0.90     13425\n",
      "           1       0.75      0.49      0.59      4027\n",
      "\n",
      "    accuracy                           0.85     17452\n",
      "   macro avg       0.81      0.72      0.75     17452\n",
      "weighted avg       0.84      0.85      0.83     17452\n",
      "\n",
      "[[12777   648]\n",
      " [ 2051  1976]]\n",
      "              precision    recall  f1-score   support\n",
      "\n",
      "           0       0.86      0.94      0.90      3367\n",
      "           1       0.71      0.49      0.58       996\n",
      "\n",
      "    accuracy                           0.84      4363\n",
      "   macro avg       0.79      0.72      0.74      4363\n",
      "weighted avg       0.83      0.84      0.83      4363\n",
      "\n",
      "[[3167  200]\n",
      " [ 508  488]]\n"
     ]
    }
   ],
   "source": [
    "pipe_log=Pipeline([('std_scl',StandardScaler()),\n",
    "                  ('log',LogisticRegression())])\n",
    "\n",
    "pipe_log.fit(X_train,y_train)\n",
    "print('Test Accuracy: %.3f' % pipe_log.score(X_test, y_test))\n",
    "train_pred=pipe_log.predict(X_train)\n",
    "pred_log=pipe_log.predict(X_test)\n",
    "predprob_log=pipe_log.predict_proba(X_test)\n",
    "print('Logloss: %.3f' %log_loss(y_test,predprob_log))\n",
    "print(classification_report(y_train,train_pred))\n",
    "print(confusion_matrix(y_train,train_pred))\n",
    "print(classification_report(y_test,pred_log))\n",
    "print(confusion_matrix(y_test,pred_log))"
   ]
  },
  {
   "cell_type": "code",
   "execution_count": 28,
   "metadata": {},
   "outputs": [
    {
     "data": {
      "text/plain": [
       "RandomForestClassifier(bootstrap=True, class_weight=None, criterion='gini',\n",
       "                       max_depth=None, max_features='auto', max_leaf_nodes=None,\n",
       "                       min_impurity_decrease=0.0, min_impurity_split=None,\n",
       "                       min_samples_leaf=1, min_samples_split=2,\n",
       "                       min_weight_fraction_leaf=0.0, n_estimators=100,\n",
       "                       n_jobs=-1, oob_score=False, random_state=None, verbose=0,\n",
       "                       warm_start=False)"
      ]
     },
     "execution_count": 28,
     "metadata": {},
     "output_type": "execute_result"
    }
   ],
   "source": [
    "rfc=RandomForestClassifier(n_estimators=100,criterion='gini',n_jobs=-1)\n",
    "rfc.fit(X_train,y_train)"
   ]
  },
  {
   "cell_type": "code",
   "execution_count": 29,
   "metadata": {},
   "outputs": [
    {
     "data": {
      "text/plain": [
       "Humidity         0.358852\n",
       "TempDiv          0.216368\n",
       "Pressure         0.215375\n",
       "WindGustSpeed    0.142567\n",
       "Location         0.066838\n",
       "dtype: float64"
      ]
     },
     "execution_count": 29,
     "metadata": {},
     "output_type": "execute_result"
    }
   ],
   "source": [
    "tree_feature = pd.Series(rfc.feature_importances_,X_train.columns).sort_values(ascending =False)\n",
    "tree_feature"
   ]
  },
  {
   "cell_type": "code",
   "execution_count": 30,
   "metadata": {},
   "outputs": [
    {
     "name": "stdout",
     "output_type": "stream",
     "text": [
      "Optimization terminated successfully.\n",
      "         Current function value: 0.377799\n",
      "         Iterations 7\n",
      "                         Results: Logit\n",
      "=================================================================\n",
      "Model:              Logit            Pseudo R-squared: 0.301     \n",
      "Dependent Variable: RainTomorrow     AIC:              13196.6934\n",
      "Date:               2019-12-12 05:35 BIC:              13235.5294\n",
      "No. Observations:   17452            Log-Likelihood:   -6593.3   \n",
      "Df Model:           4                LL-Null:          -9427.2   \n",
      "Df Residuals:       17447            LLR p-value:      0.0000    \n",
      "Converged:          1.0000           Scale:            1.0000    \n",
      "No. Iterations:     7.0000                                       \n",
      "-----------------------------------------------------------------\n",
      "                  Coef.  Std.Err.    z     P>|z|   [0.025  0.975]\n",
      "-----------------------------------------------------------------\n",
      "WindGustSpeed     0.0559   0.0019  30.1642 0.0000  0.0522  0.0595\n",
      "Location         -0.0805   0.0112  -7.1648 0.0000 -0.1025 -0.0584\n",
      "TempDiv          -0.0010   0.0075  -0.1289 0.8974 -0.0157  0.0138\n",
      "Humidity          0.0906   0.0020  45.5092 0.0000  0.0867  0.0945\n",
      "Pressure         -0.0080   0.0002 -41.0205 0.0000 -0.0084 -0.0076\n",
      "=================================================================\n",
      "\n"
     ]
    }
   ],
   "source": [
    "import statsmodels.api as sm\n",
    "logit_model=sm.Logit(y_train,X_train)\n",
    "result=logit_model.fit()\n",
    "print(result.summary2())"
   ]
  },
  {
   "cell_type": "markdown",
   "metadata": {},
   "source": [
    "Dari ke empat hasil yang memberikan performa terbaik adalah Logistic Regression"
   ]
  },
  {
   "cell_type": "code",
   "execution_count": 31,
   "metadata": {},
   "outputs": [
    {
     "name": "stdout",
     "output_type": "stream",
     "text": [
      "0.8482695393078157\n",
      "{'learning_rate': 0.5, 'n_estimators': 12}\n"
     ]
    }
   ],
   "source": [
    "from sklearn.model_selection import GridSearchCV\n",
    "\n",
    "param_learning = np.linspace(0.1,1,10)\n",
    "param_estimator = (2,5,7,10,12)\n",
    "param_grid = {'learning_rate': param_learning, 'n_estimators':param_estimator}\n",
    "\n",
    "gs = GridSearchCV(pipe_xgb.steps[2][1],param_grid,scoring='accuracy')\n",
    "\n",
    "# Training and searching hyper parameter space and evaluating model\n",
    "# by using cross validation logic folded into 10\n",
    "gs = gs.fit(X_train, y_train)\n",
    "\n",
    "print(gs.best_score_)\n",
    "print(gs.best_params_)"
   ]
  },
  {
   "cell_type": "code",
   "execution_count": 32,
   "metadata": {},
   "outputs": [
    {
     "name": "stdout",
     "output_type": "stream",
     "text": [
      "0.8462640385056154\n",
      "{'n_neighbors': 90}\n"
     ]
    }
   ],
   "source": [
    "param_neighbors = (10,30,50,70,90)\n",
    "param_grid = {'n_neighbors':param_neighbors}\n",
    "\n",
    "gs = GridSearchCV(pipe_knn.steps[2][1],param_grid,scoring='accuracy')\n",
    "\n",
    "# Training and searching hyper parameter space and evaluating model\n",
    "# by using cross validation logic folded into 10\n",
    "gs = gs.fit(X_train, y_train)\n",
    "\n",
    "print(gs.best_score_)\n",
    "print(gs.best_params_)"
   ]
  },
  {
   "cell_type": "code",
   "execution_count": 58,
   "metadata": {},
   "outputs": [
    {
     "name": "stdout",
     "output_type": "stream",
     "text": [
      "0.8432844373137749\n",
      "{'n_estimators': 150}\n"
     ]
    }
   ],
   "source": [
    "# param_learning = np.linspace(0.1,1,10)\n",
    "param_estimator = (100,150,200)\n",
    "param_grid = {'n_estimators':param_estimator}\n",
    "\n",
    "gs = GridSearchCV(pipe_rfc.steps[2][1],param_grid,scoring='accuracy')\n",
    "\n",
    "# Training and searching hyper parameter space and evaluating model\n",
    "# by using cross validation logic folded into 10\n",
    "gs = gs.fit(X_train, y_train)\n",
    "\n",
    "print(gs.best_score_)\n",
    "print(gs.best_params_)"
   ]
  },
  {
   "cell_type": "code",
   "execution_count": 59,
   "metadata": {},
   "outputs": [],
   "source": [
    "import pickle"
   ]
  },
  {
   "cell_type": "code",
   "execution_count": 60,
   "metadata": {},
   "outputs": [],
   "source": [
    "pickle.dump(pipe_log,open('RainAUS_predictor.sav','wb'))"
   ]
  },
  {
   "cell_type": "code",
   "execution_count": 61,
   "metadata": {},
   "outputs": [
    {
     "data": {
      "text/html": [
       "<div>\n",
       "<style scoped>\n",
       "    .dataframe tbody tr th:only-of-type {\n",
       "        vertical-align: middle;\n",
       "    }\n",
       "\n",
       "    .dataframe tbody tr th {\n",
       "        vertical-align: top;\n",
       "    }\n",
       "\n",
       "    .dataframe thead th {\n",
       "        text-align: right;\n",
       "    }\n",
       "</style>\n",
       "<table border=\"1\" class=\"dataframe\">\n",
       "  <thead>\n",
       "    <tr style=\"text-align: right;\">\n",
       "      <th></th>\n",
       "      <th>WindGustSpeed</th>\n",
       "      <th>Location</th>\n",
       "      <th>TempDiv</th>\n",
       "      <th>Humidity</th>\n",
       "      <th>Pressure</th>\n",
       "    </tr>\n",
       "  </thead>\n",
       "  <tbody>\n",
       "    <tr>\n",
       "      <th>83478</th>\n",
       "      <td>19.0</td>\n",
       "      <td>1</td>\n",
       "      <td>12.6</td>\n",
       "      <td>58.0</td>\n",
       "      <td>1019.2</td>\n",
       "    </tr>\n",
       "    <tr>\n",
       "      <th>67946</th>\n",
       "      <td>59.0</td>\n",
       "      <td>4</td>\n",
       "      <td>19.0</td>\n",
       "      <td>23.0</td>\n",
       "      <td>1004.2</td>\n",
       "    </tr>\n",
       "  </tbody>\n",
       "</table>\n",
       "</div>"
      ],
      "text/plain": [
       "       WindGustSpeed  Location  TempDiv  Humidity  Pressure\n",
       "83478           19.0         1     12.6      58.0    1019.2\n",
       "67946           59.0         4     19.0      23.0    1004.2"
      ]
     },
     "execution_count": 61,
     "metadata": {},
     "output_type": "execute_result"
    }
   ],
   "source": [
    "X_test.iloc[1:3]"
   ]
  },
  {
   "cell_type": "code",
   "execution_count": 37,
   "metadata": {},
   "outputs": [],
   "source": [
    "df_use['Location Name']=df1['Location']"
   ]
  },
  {
   "cell_type": "code",
   "execution_count": 38,
   "metadata": {},
   "outputs": [],
   "source": [
    "x = pipe_log.predict_proba(np.array([60,5,1000,5,4.4]).reshape(1,-1))\n",
    "z =pipe_log.predict(np.array([680,150,120,5,4.4]).reshape(1,-1))\n",
    "y=[]\n",
    "rain_calc=[]\n",
    "for i in range(2):\n",
    "    y.append(round(x[0][i]*100,ndigits =2))\n",
    "res = max(y)\n",
    "if x[0][0]>x[0][1]:\n",
    "    rain_calc.append('No')\n",
    "else:\n",
    "    rain_calc.append('Yes')"
   ]
  },
  {
   "cell_type": "code",
   "execution_count": 39,
   "metadata": {},
   "outputs": [
    {
     "data": {
      "text/plain": [
       "[0.0, 100.0]"
      ]
     },
     "execution_count": 39,
     "metadata": {},
     "output_type": "execute_result"
    }
   ],
   "source": [
    "y"
   ]
  },
  {
   "cell_type": "code",
   "execution_count": 40,
   "metadata": {},
   "outputs": [],
   "source": [
    "df_use.sort_values(by='Location',ascending=True,axis=0,inplace=True)"
   ]
  },
  {
   "cell_type": "code",
   "execution_count": 41,
   "metadata": {},
   "outputs": [],
   "source": [
    "df_use.to_csv('data_rain.csv',index=False)"
   ]
  },
  {
   "cell_type": "code",
   "execution_count": 42,
   "metadata": {},
   "outputs": [
    {
     "data": {
      "text/html": [
       "<div>\n",
       "<style scoped>\n",
       "    .dataframe tbody tr th:only-of-type {\n",
       "        vertical-align: middle;\n",
       "    }\n",
       "\n",
       "    .dataframe tbody tr th {\n",
       "        vertical-align: top;\n",
       "    }\n",
       "\n",
       "    .dataframe thead th {\n",
       "        text-align: right;\n",
       "    }\n",
       "</style>\n",
       "<table border=\"1\" class=\"dataframe\">\n",
       "  <thead>\n",
       "    <tr style=\"text-align: right;\">\n",
       "      <th></th>\n",
       "      <th>WindGustSpeed</th>\n",
       "      <th>Location</th>\n",
       "      <th>RainTomorrow</th>\n",
       "      <th>TempDiv</th>\n",
       "      <th>Humidity</th>\n",
       "      <th>Pressure</th>\n",
       "      <th>Location Name</th>\n",
       "    </tr>\n",
       "  </thead>\n",
       "  <tbody>\n",
       "    <tr>\n",
       "      <th>95579</th>\n",
       "      <td>22.0</td>\n",
       "      <td>0</td>\n",
       "      <td>0</td>\n",
       "      <td>4.7</td>\n",
       "      <td>61.0</td>\n",
       "      <td>1025.0</td>\n",
       "      <td>Adelaide</td>\n",
       "    </tr>\n",
       "    <tr>\n",
       "      <th>94892</th>\n",
       "      <td>41.0</td>\n",
       "      <td>0</td>\n",
       "      <td>1</td>\n",
       "      <td>6.7</td>\n",
       "      <td>37.0</td>\n",
       "      <td>1019.1</td>\n",
       "      <td>Adelaide</td>\n",
       "    </tr>\n",
       "    <tr>\n",
       "      <th>94891</th>\n",
       "      <td>31.0</td>\n",
       "      <td>0</td>\n",
       "      <td>0</td>\n",
       "      <td>5.2</td>\n",
       "      <td>49.0</td>\n",
       "      <td>1025.8</td>\n",
       "      <td>Adelaide</td>\n",
       "    </tr>\n",
       "    <tr>\n",
       "      <th>94890</th>\n",
       "      <td>37.0</td>\n",
       "      <td>0</td>\n",
       "      <td>0</td>\n",
       "      <td>10.7</td>\n",
       "      <td>36.0</td>\n",
       "      <td>1027.0</td>\n",
       "      <td>Adelaide</td>\n",
       "    </tr>\n",
       "    <tr>\n",
       "      <th>94889</th>\n",
       "      <td>33.0</td>\n",
       "      <td>0</td>\n",
       "      <td>0</td>\n",
       "      <td>10.4</td>\n",
       "      <td>41.0</td>\n",
       "      <td>1029.2</td>\n",
       "      <td>Adelaide</td>\n",
       "    </tr>\n",
       "  </tbody>\n",
       "</table>\n",
       "</div>"
      ],
      "text/plain": [
       "       WindGustSpeed  Location  RainTomorrow  TempDiv  Humidity  Pressure  \\\n",
       "95579           22.0         0             0      4.7      61.0    1025.0   \n",
       "94892           41.0         0             1      6.7      37.0    1019.1   \n",
       "94891           31.0         0             0      5.2      49.0    1025.8   \n",
       "94890           37.0         0             0     10.7      36.0    1027.0   \n",
       "94889           33.0         0             0     10.4      41.0    1029.2   \n",
       "\n",
       "      Location Name  \n",
       "95579      Adelaide  \n",
       "94892      Adelaide  \n",
       "94891      Adelaide  \n",
       "94890      Adelaide  \n",
       "94889      Adelaide  "
      ]
     },
     "execution_count": 42,
     "metadata": {},
     "output_type": "execute_result"
    }
   ],
   "source": [
    "df_use.head()"
   ]
  },
  {
   "cell_type": "code",
   "execution_count": 43,
   "metadata": {},
   "outputs": [
    {
     "data": {
      "text/html": [
       "<div>\n",
       "<style scoped>\n",
       "    .dataframe tbody tr th:only-of-type {\n",
       "        vertical-align: middle;\n",
       "    }\n",
       "\n",
       "    .dataframe tbody tr th {\n",
       "        vertical-align: top;\n",
       "    }\n",
       "\n",
       "    .dataframe thead th {\n",
       "        text-align: right;\n",
       "    }\n",
       "</style>\n",
       "<table border=\"1\" class=\"dataframe\">\n",
       "  <thead>\n",
       "    <tr style=\"text-align: right;\">\n",
       "      <th></th>\n",
       "      <th>Date</th>\n",
       "      <th>Location</th>\n",
       "      <th>MinTemp</th>\n",
       "      <th>MaxTemp</th>\n",
       "      <th>Rainfall</th>\n",
       "      <th>Evaporation</th>\n",
       "      <th>Sunshine</th>\n",
       "      <th>WindGustDir</th>\n",
       "      <th>WindGustSpeed</th>\n",
       "      <th>WindDir9am</th>\n",
       "      <th>...</th>\n",
       "      <th>Humidity3pm</th>\n",
       "      <th>Pressure9am</th>\n",
       "      <th>Pressure3pm</th>\n",
       "      <th>Cloud9am</th>\n",
       "      <th>Cloud3pm</th>\n",
       "      <th>Temp9am</th>\n",
       "      <th>Temp3pm</th>\n",
       "      <th>RainToday</th>\n",
       "      <th>RISK_MM</th>\n",
       "      <th>RainTomorrow</th>\n",
       "    </tr>\n",
       "  </thead>\n",
       "  <tbody>\n",
       "    <tr>\n",
       "      <th>29497</th>\n",
       "      <td>2008-02-01</td>\n",
       "      <td>Sydney</td>\n",
       "      <td>19.5</td>\n",
       "      <td>22.4</td>\n",
       "      <td>15.6</td>\n",
       "      <td>6.2</td>\n",
       "      <td>0.0</td>\n",
       "      <td>NaN</td>\n",
       "      <td>NaN</td>\n",
       "      <td>S</td>\n",
       "      <td>...</td>\n",
       "      <td>84.0</td>\n",
       "      <td>1017.6</td>\n",
       "      <td>1017.4</td>\n",
       "      <td>8.0</td>\n",
       "      <td>8.0</td>\n",
       "      <td>20.7</td>\n",
       "      <td>20.9</td>\n",
       "      <td>Yes</td>\n",
       "      <td>6.0</td>\n",
       "      <td>Yes</td>\n",
       "    </tr>\n",
       "    <tr>\n",
       "      <th>29498</th>\n",
       "      <td>2008-02-02</td>\n",
       "      <td>Sydney</td>\n",
       "      <td>19.5</td>\n",
       "      <td>25.6</td>\n",
       "      <td>6.0</td>\n",
       "      <td>3.4</td>\n",
       "      <td>2.7</td>\n",
       "      <td>NaN</td>\n",
       "      <td>NaN</td>\n",
       "      <td>W</td>\n",
       "      <td>...</td>\n",
       "      <td>73.0</td>\n",
       "      <td>1017.9</td>\n",
       "      <td>1016.4</td>\n",
       "      <td>7.0</td>\n",
       "      <td>7.0</td>\n",
       "      <td>22.4</td>\n",
       "      <td>24.8</td>\n",
       "      <td>Yes</td>\n",
       "      <td>6.6</td>\n",
       "      <td>Yes</td>\n",
       "    </tr>\n",
       "    <tr>\n",
       "      <th>29499</th>\n",
       "      <td>2008-02-03</td>\n",
       "      <td>Sydney</td>\n",
       "      <td>21.6</td>\n",
       "      <td>24.5</td>\n",
       "      <td>6.6</td>\n",
       "      <td>2.4</td>\n",
       "      <td>0.1</td>\n",
       "      <td>NaN</td>\n",
       "      <td>NaN</td>\n",
       "      <td>ESE</td>\n",
       "      <td>...</td>\n",
       "      <td>86.0</td>\n",
       "      <td>1016.7</td>\n",
       "      <td>1015.6</td>\n",
       "      <td>7.0</td>\n",
       "      <td>8.0</td>\n",
       "      <td>23.5</td>\n",
       "      <td>23.0</td>\n",
       "      <td>Yes</td>\n",
       "      <td>18.8</td>\n",
       "      <td>Yes</td>\n",
       "    </tr>\n",
       "    <tr>\n",
       "      <th>29500</th>\n",
       "      <td>2008-02-04</td>\n",
       "      <td>Sydney</td>\n",
       "      <td>20.2</td>\n",
       "      <td>22.8</td>\n",
       "      <td>18.8</td>\n",
       "      <td>2.2</td>\n",
       "      <td>0.0</td>\n",
       "      <td>NaN</td>\n",
       "      <td>NaN</td>\n",
       "      <td>NNE</td>\n",
       "      <td>...</td>\n",
       "      <td>90.0</td>\n",
       "      <td>1014.2</td>\n",
       "      <td>1011.8</td>\n",
       "      <td>8.0</td>\n",
       "      <td>8.0</td>\n",
       "      <td>21.4</td>\n",
       "      <td>20.9</td>\n",
       "      <td>Yes</td>\n",
       "      <td>77.4</td>\n",
       "      <td>Yes</td>\n",
       "    </tr>\n",
       "    <tr>\n",
       "      <th>29501</th>\n",
       "      <td>2008-02-05</td>\n",
       "      <td>Sydney</td>\n",
       "      <td>19.7</td>\n",
       "      <td>25.7</td>\n",
       "      <td>77.4</td>\n",
       "      <td>NaN</td>\n",
       "      <td>0.0</td>\n",
       "      <td>NaN</td>\n",
       "      <td>NaN</td>\n",
       "      <td>NNE</td>\n",
       "      <td>...</td>\n",
       "      <td>74.0</td>\n",
       "      <td>1008.3</td>\n",
       "      <td>1004.8</td>\n",
       "      <td>8.0</td>\n",
       "      <td>8.0</td>\n",
       "      <td>22.5</td>\n",
       "      <td>25.5</td>\n",
       "      <td>Yes</td>\n",
       "      <td>1.6</td>\n",
       "      <td>Yes</td>\n",
       "    </tr>\n",
       "  </tbody>\n",
       "</table>\n",
       "<p>5 rows × 24 columns</p>\n",
       "</div>"
      ],
      "text/plain": [
       "             Date Location  MinTemp  MaxTemp  Rainfall  Evaporation  Sunshine  \\\n",
       "29497  2008-02-01   Sydney     19.5     22.4      15.6          6.2       0.0   \n",
       "29498  2008-02-02   Sydney     19.5     25.6       6.0          3.4       2.7   \n",
       "29499  2008-02-03   Sydney     21.6     24.5       6.6          2.4       0.1   \n",
       "29500  2008-02-04   Sydney     20.2     22.8      18.8          2.2       0.0   \n",
       "29501  2008-02-05   Sydney     19.7     25.7      77.4          NaN       0.0   \n",
       "\n",
       "      WindGustDir  WindGustSpeed WindDir9am  ... Humidity3pm  Pressure9am  \\\n",
       "29497         NaN            NaN          S  ...        84.0       1017.6   \n",
       "29498         NaN            NaN          W  ...        73.0       1017.9   \n",
       "29499         NaN            NaN        ESE  ...        86.0       1016.7   \n",
       "29500         NaN            NaN        NNE  ...        90.0       1014.2   \n",
       "29501         NaN            NaN        NNE  ...        74.0       1008.3   \n",
       "\n",
       "       Pressure3pm  Cloud9am  Cloud3pm  Temp9am  Temp3pm  RainToday  RISK_MM  \\\n",
       "29497       1017.4       8.0       8.0     20.7     20.9        Yes      6.0   \n",
       "29498       1016.4       7.0       7.0     22.4     24.8        Yes      6.6   \n",
       "29499       1015.6       7.0       8.0     23.5     23.0        Yes     18.8   \n",
       "29500       1011.8       8.0       8.0     21.4     20.9        Yes     77.4   \n",
       "29501       1004.8       8.0       8.0     22.5     25.5        Yes      1.6   \n",
       "\n",
       "       RainTomorrow  \n",
       "29497           Yes  \n",
       "29498           Yes  \n",
       "29499           Yes  \n",
       "29500           Yes  \n",
       "29501           Yes  \n",
       "\n",
       "[5 rows x 24 columns]"
      ]
     },
     "execution_count": 43,
     "metadata": {},
     "output_type": "execute_result"
    }
   ],
   "source": [
    "df1.head()"
   ]
  },
  {
   "cell_type": "code",
   "execution_count": 44,
   "metadata": {},
   "outputs": [
    {
     "name": "stdout",
     "output_type": "stream",
     "text": [
      "<class 'pandas.core.frame.DataFrame'>\n",
      "Int64Index: 21826 entries, 29497 to 120899\n",
      "Data columns (total 24 columns):\n",
      "Date             21826 non-null object\n",
      "Location         21826 non-null object\n",
      "MinTemp          21808 non-null float64\n",
      "MaxTemp          21813 non-null float64\n",
      "Rainfall         21568 non-null float64\n",
      "Evaporation      18665 non-null float64\n",
      "Sunshine         18455 non-null float64\n",
      "WindGustDir      20359 non-null object\n",
      "WindGustSpeed    20365 non-null float64\n",
      "WindDir9am       20706 non-null object\n",
      "WindDir3pm       21502 non-null object\n",
      "WindSpeed9am     21563 non-null float64\n",
      "WindSpeed3pm     21568 non-null float64\n",
      "Humidity9am      21731 non-null float64\n",
      "Humidity3pm      21770 non-null float64\n",
      "Pressure9am      21571 non-null float64\n",
      "Pressure3pm      21572 non-null float64\n",
      "Cloud9am         16694 non-null float64\n",
      "Cloud3pm         16445 non-null float64\n",
      "Temp9am          21796 non-null float64\n",
      "Temp3pm          21795 non-null float64\n",
      "RainToday        21568 non-null object\n",
      "RISK_MM          21826 non-null float64\n",
      "RainTomorrow     21826 non-null object\n",
      "dtypes: float64(17), object(7)\n",
      "memory usage: 4.8+ MB\n"
     ]
    }
   ],
   "source": [
    "df1.info()"
   ]
  },
  {
   "cell_type": "code",
   "execution_count": 45,
   "metadata": {},
   "outputs": [],
   "source": [
    "df2 =df1"
   ]
  },
  {
   "cell_type": "code",
   "execution_count": 46,
   "metadata": {},
   "outputs": [
    {
     "name": "stdout",
     "output_type": "stream",
     "text": [
      "<class 'pandas.core.frame.DataFrame'>\n",
      "Int64Index: 21826 entries, 29497 to 120899\n",
      "Data columns (total 24 columns):\n",
      "Date             21826 non-null object\n",
      "Location         21826 non-null object\n",
      "MinTemp          21808 non-null float64\n",
      "MaxTemp          21813 non-null float64\n",
      "Rainfall         21568 non-null float64\n",
      "Evaporation      18665 non-null float64\n",
      "Sunshine         18455 non-null float64\n",
      "WindGustDir      20359 non-null object\n",
      "WindGustSpeed    20365 non-null float64\n",
      "WindDir9am       20706 non-null object\n",
      "WindDir3pm       21502 non-null object\n",
      "WindSpeed9am     21563 non-null float64\n",
      "WindSpeed3pm     21568 non-null float64\n",
      "Humidity9am      21731 non-null float64\n",
      "Humidity3pm      21770 non-null float64\n",
      "Pressure9am      21571 non-null float64\n",
      "Pressure3pm      21572 non-null float64\n",
      "Cloud9am         16694 non-null float64\n",
      "Cloud3pm         16445 non-null float64\n",
      "Temp9am          21796 non-null float64\n",
      "Temp3pm          21795 non-null float64\n",
      "RainToday        21568 non-null object\n",
      "RISK_MM          21826 non-null float64\n",
      "RainTomorrow     21826 non-null object\n",
      "dtypes: float64(17), object(7)\n",
      "memory usage: 4.8+ MB\n"
     ]
    }
   ],
   "source": [
    "df2.info()"
   ]
  },
  {
   "cell_type": "code",
   "execution_count": 47,
   "metadata": {},
   "outputs": [
    {
     "data": {
      "text/plain": [
       "Index(['MinTemp', 'MaxTemp', 'Rainfall', 'Evaporation', 'Sunshine',\n",
       "       'WindGustSpeed', 'WindSpeed9am', 'WindSpeed3pm', 'Humidity9am',\n",
       "       'Humidity3pm', 'Pressure9am', 'Pressure3pm', 'Cloud9am', 'Cloud3pm',\n",
       "       'Temp9am', 'Temp3pm', 'RISK_MM'],\n",
       "      dtype='object')"
      ]
     },
     "execution_count": 47,
     "metadata": {},
     "output_type": "execute_result"
    }
   ],
   "source": [
    "data_num=df2.select_dtypes('number').columns\n",
    "data_num"
   ]
  },
  {
   "cell_type": "code",
   "execution_count": 48,
   "metadata": {},
   "outputs": [
    {
     "data": {
      "image/png": "[encoded data removed]",
      "text/plain": [
       "<Figure size 432x288 with 1 Axes>"
      ]
     },
     "metadata": {
      "needs_background": "light"
     },
     "output_type": "display_data"
    },
    {
     "data": {
      "image/png": "[encoded data removed]",
      "text/plain": [
       "<Figure size 432x288 with 1 Axes>"
      ]
     },
     "metadata": {
      "needs_background": "light"
     },
     "output_type": "display_data"
    },
    {
     "data": {
      "image/png": "[encoded data removed]",
      "text/plain": [
       "<Figure size 432x288 with 1 Axes>"
      ]
     },
     "metadata": {
      "needs_background": "light"
     },
     "output_type": "display_data"
    },
    {
     "data": {
      "image/png": "[encoded data removed]",
      "text/plain": [
       "<Figure size 432x288 with 1 Axes>"
      ]
     },
     "metadata": {
      "needs_background": "light"
     },
     "output_type": "display_data"
    },
    {
     "data": {
      "image/png": "[encoded data removed]",
      "text/plain": [
       "<Figure size 432x288 with 1 Axes>"
      ]
     },
     "metadata": {
      "needs_background": "light"
     },
     "output_type": "display_data"
    },
    {
     "data": {
      "image/png": "[encoded data removed]",
      "text/plain": [
       "<Figure size 432x288 with 1 Axes>"
      ]
     },
     "metadata": {
      "needs_background": "light"
     },
     "output_type": "display_data"
    },
    {
     "data": {
      "image/png": "[encoded data removed]",
      "text/plain": [
       "<Figure size 432x288 with 1 Axes>"
      ]
     },
     "metadata": {
      "needs_background": "light"
     },
     "output_type": "display_data"
    },
    {
     "data": {
      "image/png": "[encoded data removed]",
      "text/plain": [
       "<Figure size 432x288 with 1 Axes>"
      ]
     },
     "metadata": {
      "needs_background": "light"
     },
     "output_type": "display_data"
    },
    {
     "data": {
      "image/png": "[encoded data removed]",
      "text/plain": [
       "<Figure size 432x288 with 1 Axes>"
      ]
     },
     "metadata": {
      "needs_background": "light"
     },
     "output_type": "display_data"
    },
    {
     "data": {
      "image/png": "[encoded data removed]",
      "text/plain": [
       "<Figure size 432x288 with 1 Axes>"
      ]
     },
     "metadata": {
      "needs_background": "light"
     },
     "output_type": "display_data"
    },
    {
     "data": {
      "image/png": "[encoded data removed]",
      "text/plain": [
       "<Figure size 432x288 with 1 Axes>"
      ]
     },
     "metadata": {
      "needs_background": "light"
     },
     "output_type": "display_data"
    },
    {
     "data": {
      "image/png": "[encoded data removed]",
      "text/plain": [
       "<Figure size 432x288 with 1 Axes>"
      ]
     },
     "metadata": {
      "needs_background": "light"
     },
     "output_type": "display_data"
    },
    {
     "data": {
      "image/png": "[encoded data removed]",
      "text/plain": [
       "<Figure size 432x288 with 1 Axes>"
      ]
     },
     "metadata": {
      "needs_background": "light"
     },
     "output_type": "display_data"
    },
    {
     "data": {
      "image/png": "[encoded data removed]",
      "text/plain": [
       "<Figure size 432x288 with 1 Axes>"
      ]
     },
     "metadata": {
      "needs_background": "light"
     },
     "output_type": "display_data"
    },
    {
     "data": {
      "image/png": "[encoded data removed]",
      "text/plain": [
       "<Figure size 432x288 with 1 Axes>"
      ]
     },
     "metadata": {
      "needs_background": "light"
     },
     "output_type": "display_data"
    },
    {
     "data": {
      "image/png": "[encoded data removed]",
      "text/plain": [
       "<Figure size 432x288 with 1 Axes>"
      ]
     },
     "metadata": {
      "needs_background": "light"
     },
     "output_type": "display_data"
    },
    {
     "data": {
      "image/png": "[encoded data removed]",
      "text/plain": [
       "<Figure size 432x288 with 1 Axes>"
      ]
     },
     "metadata": {
      "needs_background": "light"
     },
     "output_type": "display_data"
    }
   ],
   "source": [
    "for i in data_num:\n",
    "    sns.distplot(df2[i].dropna())\n",
    "    plt.show()"
   ]
  },
  {
   "cell_type": "code",
   "execution_count": 49,
   "metadata": {},
   "outputs": [],
   "source": [
    "df2.drop(columns=['Cloud9am','Cloud3pm','RISK_MM','RainToday'],inplace=True)"
   ]
  },
  {
   "cell_type": "code",
   "execution_count": 50,
   "metadata": {},
   "outputs": [],
   "source": [
    "df2['MinTemp']=df2['MinTemp'].fillna(round(df2['MinTemp'].median(),1))\n",
    "df2['MaxTemp']=df2['MaxTemp'].fillna(round(df2['MaxTemp'].median(),1))\n",
    "df2['WindGustSpeed']=df2['WindGustSpeed'].fillna(df2['WindGustSpeed'].median())\n",
    "df2['WindSpeed9am']=df2['WindSpeed9am'].fillna(df2['WindSpeed9am'].median())\n",
    "df2['WindSpeed3pm']=df2['WindSpeed3pm'].fillna(df2['WindSpeed3pm'].median())\n",
    "df2['Humidity9am']=df2['Humidity9am'].fillna(round(df2['Humidity9am'].median()))\n",
    "df2['Humidity3pm']=df2['Humidity3pm'].fillna(round(df2['Humidity3pm'].median()))\n",
    "df2['Pressure9am']=df2['Pressure9am'].fillna(round(df2['Pressure9am'].median()))\n",
    "df2['Pressure3pm']=df2['Pressure3pm'].fillna(round(df2['Pressure3pm'].median()))\n",
    "df2['Temp9am']=df2['Temp9am'].fillna(round(df2['Temp9am'].median()))\n",
    "df2['Temp3pm']=df2['Temp3pm'].fillna(round(df2['Temp3pm'].median()))\n",
    "df2['Rainfall']=df2['Rainfall'].fillna(round(df2['Rainfall'].median(),1))\n",
    "df2['Evaporation']=df2['Evaporation'].fillna(round(df2['Evaporation'].median(),1))\n",
    "df2['Sunshine']=df2['Sunshine'].fillna(df2['Sunshine'].median())\n",
    "# df2['RainToday']=df2['Rainfall'].fillna()"
   ]
  },
  {
   "cell_type": "code",
   "execution_count": null,
   "metadata": {},
   "outputs": [],
   "source": []
  },
  {
   "cell_type": "code",
   "execution_count": 51,
   "metadata": {},
   "outputs": [
    {
     "name": "stdout",
     "output_type": "stream",
     "text": [
      "<class 'pandas.core.frame.DataFrame'>\n",
      "Int64Index: 21826 entries, 29497 to 120899\n",
      "Data columns (total 20 columns):\n",
      "Date             21826 non-null object\n",
      "Location         21826 non-null object\n",
      "MinTemp          21826 non-null float64\n",
      "MaxTemp          21826 non-null float64\n",
      "Rainfall         21826 non-null float64\n",
      "Evaporation      21826 non-null float64\n",
      "Sunshine         21826 non-null float64\n",
      "WindGustDir      20359 non-null object\n",
      "WindGustSpeed    21826 non-null float64\n",
      "WindDir9am       20706 non-null object\n",
      "WindDir3pm       21502 non-null object\n",
      "WindSpeed9am     21826 non-null float64\n",
      "WindSpeed3pm     21826 non-null float64\n",
      "Humidity9am      21826 non-null float64\n",
      "Humidity3pm      21826 non-null float64\n",
      "Pressure9am      21826 non-null float64\n",
      "Pressure3pm      21826 non-null float64\n",
      "Temp9am          21826 non-null float64\n",
      "Temp3pm          21826 non-null float64\n",
      "RainTomorrow     21826 non-null object\n",
      "dtypes: float64(14), object(6)\n",
      "memory usage: 4.1+ MB\n"
     ]
    }
   ],
   "source": [
    "df2.info()"
   ]
  },
  {
   "cell_type": "code",
   "execution_count": null,
   "metadata": {},
   "outputs": [],
   "source": []
  }
 ],
 "metadata": {
  "kernelspec": {
   "display_name": "Python 3",
   "language": "python",
   "name": "python3"
  },
  "language_info": {
   "codemirror_mode": {
    "name": "ipython",
    "version": 3
   },
   "file_extension": ".py",
   "mimetype": "text/x-python",
   "name": "python",
   "nbconvert_exporter": "python",
   "pygments_lexer": "ipython3",
   "version": "3.7.3"
  }
 },
 "nbformat": 4,
 "nbformat_minor": 2
}
